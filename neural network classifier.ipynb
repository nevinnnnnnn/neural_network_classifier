{
 "cells": [
  {
   "cell_type": "code",
   "execution_count": 23,
   "id": "567d1b62-6f80-4615-a294-9c80188d0ced",
   "metadata": {},
   "outputs": [],
   "source": [
    "import numpy as np\n",
    "import matplotlib.pyplot as plt"
   ]
  },
  {
   "cell_type": "code",
   "execution_count": 4,
   "id": "ca715ceb-8380-4067-a442-3957284813f7",
   "metadata": {},
   "outputs": [],
   "source": [
    "#defining the base patterns (5 x 6)\n",
    "base_A = np.array([\n",
    "    [0, 1, 1, 0, 0, 0],\n",
    "    [1, 0, 0, 1, 0, 0],\n",
    "    [1, 1, 1, 1, 0, 0],\n",
    "    [1, 0, 0, 1, 0, 0],\n",
    "    [1, 0, 0, 1, 0, 0]\n",
    "]).flatten()\n",
    "\n",
    "base_B = np.array([\n",
    "    [1, 1, 1, 1, 0, 0],\n",
    "    [1, 0, 0, 1, 0, 0],\n",
    "    [1, 1, 1, 0, 0, 0],\n",
    "    [1, 0, 0, 1, 0, 0],\n",
    "    [1, 1, 1, 1, 0, 0]\n",
    "]).flatten()\n",
    "\n",
    "base_C = np.array([\n",
    "    [0, 1, 1, 1, 0, 0],\n",
    "    [1, 0, 0, 0, 0, 0],\n",
    "    [1, 0, 0, 0, 0, 0],\n",
    "    [1, 0, 0, 0, 0, 0],\n",
    "    [0, 1, 1, 1, 0, 0]\n",
    "]).flatten()\n",
    "\n",
    "base_patterns = {'A': base_A, 'B': base_B, 'C': base_C}"
   ]
  },
  {
   "cell_type": "code",
   "execution_count": 12,
   "id": "4d1df2d1-afe1-4297-8f92-1aca17ffeec9",
   "metadata": {},
   "outputs": [],
   "source": [
    "#adding noise to the pattern\n",
    "def add_noise(pattern, p=0.05):\n",
    "    noisy = pattern.copy()\n",
    "    flips = np.random.random(pattern.shape) < p\n",
    "    noisy = np.logical_xor(noisy, flips).astype(int)\n",
    "    return noisy"
   ]
  },
  {
   "cell_type": "code",
   "execution_count": 13,
   "id": "4ea5f457-4b4b-424e-b0cb-5ed4fa1001e6",
   "metadata": {},
   "outputs": [],
   "source": [
    "#generating datasets\n",
    "def generate_data(samples_per_class, noise_p=0.05):\n",
    "    X = []\n",
    "    y_labels = []\n",
    "    classes = ['A', 'B', 'C']\n",
    "    for label_idx, letter in enumerate(classes):\n",
    "        base = base_patterns[letter]\n",
    "        for _ in range(samples_per_class):\n",
    "            noisy_sample = add_noise(base, noise_p)\n",
    "            X.append(noisy_sample)\n",
    "            y_labels.append(label_idx)\n",
    "    X = np.array(X)\n",
    "    y = np.array(y_labels)\n",
    "    return X, y"
   ]
  },
  {
   "cell_type": "code",
   "execution_count": 14,
   "id": "2a891462-c9e2-46c8-8477-1a239d36b892",
   "metadata": {},
   "outputs": [],
   "source": [
    "#one hot encoding\n",
    "def one_hot(y, num_classes):\n",
    "    m = y.shape[0]\n",
    "    y_onehot = np.zeros((m, num_classes))\n",
    "    y_onehot[np.arange(m), y] = 1\n",
    "    return y_onehot"
   ]
  },
  {
   "cell_type": "code",
   "execution_count": 15,
   "id": "04859782-aad5-47b5-adbe-ee3e685b8e33",
   "metadata": {},
   "outputs": [],
   "source": [
    "#actication fucntion\n",
    "def sigmoid(z):\n",
    "    return 1 / (1 + np.exp(-z))\n",
    "\n",
    "def softmax(z):\n",
    "    exp_z = np.exp(z - np.max(z, axis=1, keepdims=True))\n",
    "    return exp_z / np.sum(exp_z, axis=1, keepdims=True)"
   ]
  },
  {
   "cell_type": "code",
   "execution_count": 16,
   "id": "b3a138db-99af-41b2-83df-ad606fed0003",
   "metadata": {},
   "outputs": [],
   "source": [
    "#cross entropy loss\n",
    "def cross_entropy_loss(y_true, probs):\n",
    "    m = y_true.shape[0]\n",
    "    log_probs = -np.log(probs[np.arange(m), np.argmax(y_true, axis=1)])\n",
    "    loss = np.sum(log_probs) / m\n",
    "    return loss"
   ]
  },
  {
   "cell_type": "code",
   "execution_count": 17,
   "id": "825d13fa-ad15-40dc-af65-ffdfa511faf0",
   "metadata": {},
   "outputs": [],
   "source": [
    "#generate data\n",
    "X_train, y_train_labels = generate_data(100)\n",
    "X_test, y_test_labels = generate_data(10)\n",
    "y_train = one_hot(y_train_labels, 3)\n",
    "y_test = one_hot(y_test_labels, 3)"
   ]
  },
  {
   "cell_type": "code",
   "execution_count": 18,
   "id": "67bb0b2c-3cce-437a-b53d-526ba5f1e3b9",
   "metadata": {},
   "outputs": [],
   "source": [
    "#hyperparameters\n",
    "input_size = 30\n",
    "hidden_size = 10\n",
    "output_size = 3\n",
    "learning_rate = 0.1\n",
    "epochs = 1000"
   ]
  },
  {
   "cell_type": "code",
   "execution_count": 19,
   "id": "1b96ac83-42f3-4e56-a8d3-f5bf0f63c60e",
   "metadata": {},
   "outputs": [],
   "source": [
    "#initializing parameters\n",
    "np.random.seed(42)\n",
    "W1 = np.random.randn(input_size, hidden_size) * 0.01\n",
    "b1 = np.zeros((1, hidden_size))\n",
    "W2 = np.random.randn(hidden_size, output_size) * 0.01\n",
    "b2 = np.zeros((1, output_size))"
   ]
  },
  {
   "cell_type": "code",
   "execution_count": 20,
   "id": "4e25dc64-9869-425a-8b4f-5624eaa44aba",
   "metadata": {},
   "outputs": [],
   "source": [
    "#training\n",
    "losses = []\n",
    "accuracies = []\n",
    "m = X_train.shape[0]\n",
    "\n",
    "for epoch in range(epochs):\n",
    "    # Forward pass\n",
    "    z1 = X_train.dot(W1) + b1\n",
    "    a1 = sigmoid(z1)\n",
    "    z2 = a1.dot(W2) + b2\n",
    "    probs = softmax(z2)\n",
    "    \n",
    "    # Loss and accuracy\n",
    "    loss = cross_entropy_loss(y_train, probs)\n",
    "    losses.append(loss)\n",
    "    predictions = np.argmax(probs, axis=1)\n",
    "    true_labels = np.argmax(y_train, axis=1)\n",
    "    accuracy = np.mean(predictions == true_labels)\n",
    "    accuracies.append(accuracy)\n",
    "    \n",
    "    # Backward pass\n",
    "    dz2 = probs - y_train\n",
    "    dW2 = a1.T.dot(dz2) / m\n",
    "    db2 = np.sum(dz2, axis=0, keepdims=True) / m\n",
    "    dz1 = dz2.dot(W2.T) * a1 * (1 - a1)\n",
    "    dW1 = X_train.T.dot(dz1) / m\n",
    "    db1 = np.sum(dz1, axis=0, keepdims=True) / m\n",
    "    \n",
    "    # Update parameters\n",
    "    W1 -= learning_rate * dW1\n",
    "    b1 -= learning_rate * db1\n",
    "    W2 -= learning_rate * dW2\n",
    "    b2 -= learning_rate * db2"
   ]
  },
  {
   "cell_type": "code",
   "execution_count": 21,
   "id": "484a45ac-4cd8-44a2-bc57-2b88f25dd3c8",
   "metadata": {},
   "outputs": [
    {
     "name": "stdout",
     "output_type": "stream",
     "text": [
      "Test Accuracy: 100.00%\n"
     ]
    }
   ],
   "source": [
    "# Testing the model\n",
    "z1_test = X_test.dot(W1) + b1\n",
    "a1_test = sigmoid(z1_test)\n",
    "z2_test = a1_test.dot(W2) + b2\n",
    "probs_test = softmax(z2_test)\n",
    "test_predictions = np.argmax(probs_test, axis=1)\n",
    "test_accuracy = np.mean(test_predictions == y_test_labels)\n",
    "print(f\"Test Accuracy: {test_accuracy*100:.2f}%\")"
   ]
  },
  {
   "cell_type": "code",
   "execution_count": 24,
   "id": "5dfbb362-cc4a-44bb-aef2-07f8cdc9d603",
   "metadata": {},
   "outputs": [
    {
     "data": {
      "image/png": "[encoded data removed]",
      "text/plain": [
       "<Figure size 1200x400 with 2 Axes>"
      ]
     },
     "metadata": {},
     "output_type": "display_data"
    }
   ],
   "source": [
    "# Ploting the training history\n",
    "plt.figure(figsize=(12, 4))\n",
    "plt.subplot(1, 2, 1)\n",
    "plt.plot(losses)\n",
    "plt.title('Training Loss')\n",
    "plt.xlabel('Epoch')\n",
    "plt.ylabel('Loss')\n",
    "\n",
    "plt.subplot(1, 2, 2)\n",
    "plt.plot(accuracies)\n",
    "plt.title('Training Accuracy')\n",
    "plt.xlabel('Epoch')\n",
    "plt.ylabel('Accuracy')\n",
    "plt.tight_layout()\n",
    "plt.show()"
   ]
  },
  {
   "cell_type": "code",
   "execution_count": 25,
   "id": "34e1a6dc-36f7-40b0-bf12-9eb49f8db78c",
   "metadata": {},
   "outputs": [
    {
     "data": {
      "image/png": "[encoded data removed]",
      "text/plain": [
       "<Figure size 1000x400 with 3 Axes>"
      ]
     },
     "metadata": {},
     "output_type": "display_data"
    }
   ],
   "source": [
    "#visualizing the base patterns\n",
    "# Visualize base patterns\n",
    "fig, axs = plt.subplots(1, 3, figsize=(10, 4))\n",
    "for i, letter in enumerate(['A', 'B', 'C']):\n",
    "    img = base_patterns[letter].reshape(5, 6)\n",
    "    axs[i].imshow(img, cmap='gray')\n",
    "    axs[i].set_title(f'Base {letter}')\n",
    "    axs[i].axis('off')\n",
    "plt.suptitle('Base Patterns')\n",
    "plt.show()"
   ]
  },
  {
   "cell_type": "code",
   "execution_count": 26,
   "id": "326d1a27-3bba-41b7-8c27-de85c6a26d71",
   "metadata": {},
   "outputs": [],
   "source": [
    "# Visualizing a test sample\n",
    "sample_idx = 0  # First test sample\n",
    "sample_img = X_test[sample_idx].reshape(5, 6)\n",
    "pred_letter = ['A', 'B', 'C'][test_predictions[sample_idx]]\n",
    "true_letter = ['A', 'B', 'C'][y_test_labels[sample_idx]]"
   ]
  },
  {
   "cell_type": "code",
   "execution_count": 27,
   "id": "f6f2f7b0-65a4-4be4-be7a-eae9a653fb87",
   "metadata": {},
   "outputs": [
    {
     "data": {
      "image/png": "[encoded data removed]",
      "text/plain": [
       "<Figure size 640x480 with 1 Axes>"
      ]
     },
     "metadata": {},
     "output_type": "display_data"
    }
   ],
   "source": [
    "plt.imshow(sample_img, cmap='gray')\n",
    "plt.title(f'Predicted: {pred_letter}, Actual: {true_letter}')\n",
    "plt.axis('off')\n",
    "plt.show()"
   ]
  },
  {
   "cell_type": "code",
   "execution_count": null,
   "id": "cc9a532d-9bb8-4afd-a215-e96e2cbe5ad9",
   "metadata": {},
   "outputs": [],
   "source": []
  }
 ],
 "metadata": {
  "kernelspec": {
   "display_name": "Python 3 (ipykernel)",
   "language": "python",
   "name": "python3"
  },
  "language_info": {
   "codemirror_mode": {
    "name": "ipython",
    "version": 3
   },
   "file_extension": ".py",
   "mimetype": "text/x-python",
   "name": "python",
   "nbconvert_exporter": "python",
   "pygments_lexer": "ipython3",
   "version": "3.12.7"
  }
 },
 "nbformat": 4,
 "nbformat_minor": 5
}
